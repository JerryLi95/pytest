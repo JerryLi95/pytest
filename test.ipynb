{
 "cells": [
  {
   "cell_type": "code",
   "execution_count": 1,
   "metadata": {},
   "outputs": [
    {
     "name": "stdout",
     "output_type": "stream",
     "text": [
      "1234\n",
      "31241\n"
     ]
    }
   ],
   "source": [
    "#全局变量与局部变量\n",
    "a=31241\n",
    "def change():\n",
    "    a=1234\n",
    "    print(a)\n",
    "change()\n",
    "print(a)"
   ]
  },
  {
   "cell_type": "code",
   "execution_count": 25,
   "metadata": {},
   "outputs": [
    {
     "name": "stdout",
     "output_type": "stream",
     "text": [
      "税后工资为1.5\n"
     ]
    }
   ],
   "source": [
    "salary=input(\"输入税前工资：\")\n",
    "print(\"税后工资为\"+ str(int(salary)*0.75))"
   ]
  },
  {
   "cell_type": "code",
   "execution_count": 30,
   "metadata": {},
   "outputs": [
    {
     "name": "stdout",
     "output_type": "stream",
     "text": [
      "['a', 'b', 'c', 123]\n",
      "[123, 'c', 'b', 'a']\n",
      "None\n",
      "a在里面\n"
     ]
    }
   ],
   "source": [
    "var1=222\n",
    "var2=123\n",
    "list1=[\"a\",\"b\",\"c\",var2]\n",
    "\n",
    "tuple1=(1,2,3,var1,list1)\n",
    "print(list1)\n",
    "list1.reverse()\n",
    "print(list1)\n",
    "\n",
    "if list1 in tuple1:\n",
    "    print(\"a在里面\")\n"
   ]
  },
  {
   "cell_type": "code",
   "execution_count": 31,
   "metadata": {},
   "outputs": [
    {
     "name": "stdout",
     "output_type": "stream",
     "text": [
      "天气不舒适\n"
     ]
    }
   ],
   "source": [
    "def evaluate_weather():\n",
    "    temperature = int(input(\"请输入今天气温（摄氏度）\"))\n",
    "    pressure = int(input(\"请输入今天气压（帕）\"))\n",
    "    if temperature > 30 or pressure < -8 or pressure > 300 or pressure < 20:\n",
    "        print(\"天气不舒适\")\n",
    "        return\n",
    "    if (\n",
    "        25 < temperature <= 30\n",
    "        and 200 < pressure <= 300\n",
    "        or -8 <= temperature <= 10\n",
    "        and 20 <= pressure <= 100\n",
    "    ):\n",
    "        print(\"天气比较舒服\")\n",
    "        return\n",
    "    if 10 < temperature <= 25 and 100 < pressure <= 200:\n",
    "        print(\"天气特别舒服\")\n",
    "        return\n",
    "    print(\"目前无法判断\")\n",
    "\n",
    "\n",
    "evaluate_weather()\n"
   ]
  },
  {
   "cell_type": "code",
   "execution_count": 40,
   "metadata": {},
   "outputs": [
    {
     "name": "stdout",
     "output_type": "stream",
     "text": [
      "['赵', '钱', '孙', '李']\n",
      "['', '张三', '李四', '王二', '麻子']\n",
      "赵|钱|孙|李\n",
      "赵加上钱加上孙加上李\n"
     ]
    }
   ],
   "source": [
    "list1 = \"赵 钱 孙 李\"\n",
    "list2 = \"\"\"\n",
    "张三\n",
    "李四\n",
    "王二\n",
    "麻子\n",
    "\"\"\"\n",
    "print(list1.split(\" \"))\n",
    "print(list2.splitlines())\n",
    "\n",
    "ulist1 = list1.split(\" \")\n",
    "list3 = \"|\".join(ulist1)\n",
    "list4 = \"加上\".join(ulist1)\n",
    "print(list3)\n",
    "print(list4)\n"
   ]
  },
  {
   "cell_type": "code",
   "execution_count": 43,
   "metadata": {},
   "outputs": [
    {
     "name": "stdout",
     "output_type": "stream",
     "text": [
      "吧痴白是你\n"
     ]
    }
   ],
   "source": [
    "word=\"你是白痴吧\"\n",
    "reword=word[::-1]\n",
    "print(reword)"
   ]
  }
 ],
 "metadata": {
  "interpreter": {
   "hash": "83032b95bcf8c6f9858315fcffdf4ab0575c85734f3f086fb4c773c2a3809830"
  },
  "kernelspec": {
   "display_name": "Python 3.8.10 64-bit ('env': venv)",
   "language": "python",
   "name": "python3"
  },
  "language_info": {
   "codemirror_mode": {
    "name": "ipython",
    "version": 3
   },
   "file_extension": ".py",
   "mimetype": "text/x-python",
   "name": "python",
   "nbconvert_exporter": "python",
   "pygments_lexer": "ipython3",
   "version": "3.8.10"
  },
  "orig_nbformat": 4
 },
 "nbformat": 4,
 "nbformat_minor": 2
}

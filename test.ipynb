{
 "cells": [
  {
   "cell_type": "code",
   "execution_count": 1,
   "metadata": {},
   "outputs": [
    {
     "name": "stdout",
     "output_type": "stream",
     "text": [
      "1234\n",
      "31241\n"
     ]
    }
   ],
   "source": [
    "#全局变量与局部变量\n",
    "a=31241\n",
    "def change():\n",
    "    a=1234\n",
    "    print(a)\n",
    "change()\n",
    "print(a)"
   ]
  },
  {
   "cell_type": "code",
   "execution_count": 25,
   "metadata": {},
   "outputs": [
    {
     "name": "stdout",
     "output_type": "stream",
     "text": [
      "税后工资为1.5\n"
     ]
    }
   ],
   "source": [
    "salary=input(\"输入税前工资：\")\n",
    "print(\"税后工资为\"+ str(int(salary)*0.75))"
   ]
  },
  {
   "cell_type": "code",
   "execution_count": 30,
   "metadata": {},
   "outputs": [
    {
     "name": "stdout",
     "output_type": "stream",
     "text": [
      "['a', 'b', 'c', 123]\n",
      "[123, 'c', 'b', 'a']\n",
      "None\n",
      "a在里面\n"
     ]
    }
   ],
   "source": [
    "var1=222\n",
    "var2=123\n",
    "list1=[\"a\",\"b\",\"c\",var2]\n",
    "\n",
    "tuple1=(1,2,3,var1,list1)\n",
    "print(list1)\n",
    "list1.reverse()\n",
    "print(list1)\n",
    "\n",
    "if list1 in tuple1:\n",
    "    print(\"a在里面\")\n"
   ]
  },
  {
   "cell_type": "code",
   "execution_count": 30,
   "metadata": {},
   "outputs": [
    {
     "name": "stdout",
     "output_type": "stream",
     "text": [
      "目前无法判断\n",
      "时间：0.000350秒\n"
     ]
    }
   ],
   "source": [
    "import time\n",
    "\n",
    "\n",
    "def caltime(func):\n",
    "    def wrapper(*args):\n",
    "        t1 = time.perf_counter()\n",
    "        result=func()\n",
    "        t2 = time.perf_counter()\n",
    "        t = t2-t1\n",
    "        print(\"时间：{:.6f}秒\".format(t))\n",
    "        return result\n",
    "    return wrapper\n",
    "\n",
    "\n",
    "@caltime\n",
    "def evaluate_weather(temperature=30, pressure=20):\n",
    "    #temperature = int(input(\"请输入今天气温（摄氏度）\"))\n",
    "    #pressure = int(input(\"请输入今天气压（帕）\"))\n",
    "    if temperature > 30 or pressure < -8 or pressure > 300 or pressure < 20:\n",
    "        print(\"天气不舒适\")\n",
    "        return\n",
    "    if (\n",
    "        25 < temperature <= 30\n",
    "        and 200 < pressure <= 300\n",
    "        or -8 <= temperature <= 10\n",
    "        and 20 <= pressure <= 100\n",
    "    ):\n",
    "        print(\"天气比较舒服\")\n",
    "        return\n",
    "    if 10 < temperature <= 25 and 100 < pressure <= 200:\n",
    "        print(\"天气特别舒服\")\n",
    "        return\n",
    "    print(\"目前无法判断\")\n",
    "\n",
    "\n",
    "evaluate_weather()\n"
   ]
  },
  {
   "cell_type": "code",
   "execution_count": 40,
   "metadata": {},
   "outputs": [
    {
     "name": "stdout",
     "output_type": "stream",
     "text": [
      "['赵', '钱', '孙', '李']\n",
      "['', '张三', '李四', '王二', '麻子']\n",
      "赵|钱|孙|李\n",
      "赵加上钱加上孙加上李\n"
     ]
    }
   ],
   "source": [
    "list1 = \"赵 钱 孙 李\"\n",
    "list2 = \"\"\"\n",
    "张三\n",
    "李四\n",
    "王二\n",
    "麻子\n",
    "\"\"\"\n",
    "print(list1.split(\" \"))\n",
    "print(list2.splitlines())\n",
    "\n",
    "ulist1 = list1.split(\" \")\n",
    "list3 = \"|\".join(ulist1)\n",
    "list4 = \"加上\".join(ulist1)\n",
    "print(list3)\n",
    "print(list4)\n"
   ]
  },
  {
   "cell_type": "code",
   "execution_count": 43,
   "metadata": {},
   "outputs": [
    {
     "name": "stdout",
     "output_type": "stream",
     "text": [
      "吧痴白是你\n"
     ]
    }
   ],
   "source": [
    "word=\"你是白痴吧\"\n",
    "reword=word[::-1]\n",
    "print(reword)"
   ]
  },
  {
   "cell_type": "code",
   "execution_count": 1,
   "metadata": {},
   "outputs": [
    {
     "name": "stdout",
     "output_type": "stream",
     "text": [
      "[[0.9994856  0.89918269 0.9994984  2.        ]\n",
      " [0.99642741 0.91155056 0.99942847 2.        ]\n",
      " [0.99936801 0.90095167 0.99962818 2.        ]\n",
      " [0.99812044 0.9158438  0.99979088 2.        ]\n",
      " [0.99991713 0.89633185 0.99887831 0.        ]\n",
      " [0.99922861 0.90994629 0.99897133 0.        ]\n",
      " [0.99964421 0.90363304 0.99855238 0.        ]\n",
      " [0.99902367 0.90748708 0.99986194 2.        ]\n",
      " [0.99788691 0.91586362 0.99991475 2.        ]\n",
      " [0.99686054 0.91224645 0.99954862 2.        ]\n",
      " [0.99943089 0.90000318 0.99955668 2.        ]\n",
      " [0.99866294 0.91290801 0.99927294 2.        ]\n",
      " [0.99682322 0.90906767 0.99945707 2.        ]\n",
      " [0.99948614 0.88979341 0.99863041 0.        ]\n",
      " [0.9983811  0.8764591  0.99665205 0.        ]\n",
      " [0.99952363 0.88740142 0.9963864  0.        ]\n",
      " [0.99947245 0.88820457 0.99748053 0.        ]\n",
      " [0.99946793 0.90168653 0.99950806 2.        ]\n",
      " [0.99868105 0.91033214 0.99997619 2.        ]\n",
      " [0.99983548 0.89914199 0.99829509 0.        ]\n",
      " [0.99663565 0.91733473 0.99966344 2.        ]\n",
      " [0.99956839 0.90423505 0.99872419 0.        ]\n",
      " [0.99841543 0.86817999 0.99382301 0.        ]\n",
      " [0.99598192 0.92731423 0.99887062 2.        ]\n",
      " [0.99528502 0.92789173 0.99731397 2.        ]\n",
      " [0.9946532  0.92234659 0.99892868 2.        ]\n",
      " [0.99818994 0.91778829 0.9995485  2.        ]\n",
      " [0.99902713 0.90488231 0.99984089 2.        ]\n",
      " [0.99857882 0.90158035 0.99963492 2.        ]\n",
      " [0.9977527  0.91854389 0.99950328 2.        ]\n",
      " [0.99674126 0.92098746 0.99960361 2.        ]\n",
      " [0.99724563 0.91143946 0.99944834 2.        ]\n",
      " [0.99913511 0.88585417 0.99597277 0.        ]\n",
      " [0.99962897 0.88189372 0.99651472 0.        ]\n",
      " [0.99708229 0.91510915 0.99979821 2.        ]\n",
      " [0.99789557 0.894272   0.99876133 2.        ]\n",
      " [0.99766517 0.89300624 0.99857224 2.        ]\n",
      " [0.99970722 0.89324145 0.99827075 0.        ]\n",
      " [0.99917374 0.90667997 0.99984772 2.        ]\n",
      " [0.99874747 0.90741972 0.99992723 2.        ]\n",
      " [0.99969087 0.8956195  0.99890474 0.        ]\n",
      " [0.98706955 0.92453899 0.99416102 2.        ]\n",
      " [0.99983028 0.90045841 0.99890983 0.        ]\n",
      " [0.99738624 0.91895382 0.99808633 2.        ]\n",
      " [0.99703849 0.92163445 0.99731934 2.        ]\n",
      " [0.99696301 0.91465898 0.99965321 2.        ]\n",
      " [0.99950417 0.90213233 0.99839046 0.        ]\n",
      " [0.99929841 0.90708842 0.99968557 2.        ]\n",
      " [0.99963919 0.89992308 0.99943156 0.        ]\n",
      " [0.99872977 0.90425604 0.99981935 2.        ]\n",
      " [0.92245095 0.99671813 0.9394117  1.        ]\n",
      " [0.92108191 0.99783121 0.9368931  1.        ]\n",
      " [0.91159338 0.9985714  0.92943884 1.        ]\n",
      " [0.89976052 0.99911393 0.91901611 1.        ]\n",
      " [0.90708132 0.99875497 0.92558095 1.        ]\n",
      " [0.9020293  0.99931597 0.91945693 1.        ]\n",
      " [0.9146492  0.99846098 0.93023083 1.        ]\n",
      " [0.92777863 0.99626414 0.94352005 1.        ]\n",
      " [0.91393035 0.99765843 0.93197148 1.        ]\n",
      " [0.91157585 0.99874146 0.92737063 1.        ]\n",
      " [0.90446623 0.99746653 0.92406766 1.        ]\n",
      " [0.91891072 0.99806541 0.93452747 1.        ]\n",
      " [0.90578578 0.9941722  0.9262332  1.        ]\n",
      " [0.90300934 0.9995141  0.92074678 1.        ]\n",
      " [0.93583843 0.99421424 0.9499895  1.        ]\n",
      " [0.92568296 0.99621226 0.94218785 1.        ]\n",
      " [0.90339112 0.99876092 0.91938398 1.        ]\n",
      " [0.91875722 0.99672924 0.93596459 1.        ]\n",
      " [0.88437009 0.99721432 0.90601315 1.        ]\n",
      " [0.91552276 0.99760351 0.93328633 1.        ]\n",
      " [0.89867211 0.99839216 0.91453437 1.        ]\n",
      " [0.92481059 0.99632437 0.94143817 1.        ]\n",
      " [0.88389603 0.99894058 0.90463919 1.        ]\n",
      " [0.90226191 0.99870893 0.92063212 1.        ]\n",
      " [0.92132437 0.9968797  0.93844477 1.        ]\n",
      " [0.92188737 0.9968821  0.93886364 1.        ]\n",
      " [0.90543936 0.99798649 0.92466677 1.        ]\n",
      " [0.90045708 0.99974219 0.91884837 1.        ]\n",
      " [0.90703987 0.99950552 0.92416936 1.        ]\n",
      " [0.93520219 0.9925614  0.95127054 1.        ]\n",
      " [0.91431875 0.99757444 0.93238205 1.        ]\n",
      " [0.91937907 0.99625338 0.93717494 1.        ]\n",
      " [0.92330939 0.99684527 0.93995939 1.        ]\n",
      " [0.87728331 0.99917481 0.89695944 1.        ]\n",
      " [0.89942331 0.99806079 0.91513263 1.        ]\n",
      " [0.91932759 0.99679509 0.93341412 1.        ]\n",
      " [0.91547234 0.99836008 0.93267179 1.        ]\n",
      " [0.89589563 0.99657506 0.91682195 1.        ]\n",
      " [0.92138104 0.99740585 0.93632895 1.        ]\n",
      " [0.90744071 0.99927447 0.92532287 1.        ]\n",
      " [0.89696632 0.99924131 0.91522286 1.        ]\n",
      " [0.90957361 0.99912872 0.9264697  1.        ]\n",
      " [0.91646632 0.99770416 0.93404754 1.        ]\n",
      " [0.92526691 0.99615801 0.94193463 1.        ]\n",
      " [0.90842283 0.99929546 0.92561342 1.        ]\n",
      " [0.92066119 0.99737136 0.93603807 1.        ]\n",
      " [0.91630975 0.99839512 0.93232245 1.        ]\n",
      " [0.91926332 0.99770379 0.93615941 1.        ]\n",
      " [0.94258743 0.99090734 0.95685349 1.        ]\n",
      " [0.91681944 0.99844342 0.93321477 1.        ]\n",
      " [0.85596028 0.99377281 0.87411975 1.        ]\n",
      " [0.86802247 0.9980579  0.88741298 1.        ]\n",
      " [0.87264528 0.99899412 0.89302418 1.        ]\n",
      " [0.86907874 0.99823681 0.88883653 1.        ]\n",
      " [0.86319915 0.99740838 0.88286412 1.        ]\n",
      " [0.85987482 0.99734042 0.88173079 1.        ]\n",
      " [0.86632596 0.99657953 0.88462268 1.        ]\n",
      " [0.86427668 0.99742177 0.88602974 1.        ]\n",
      " [0.85591661 0.99649285 0.87852972 1.        ]\n",
      " [0.87938522 0.99812713 0.89713122 1.        ]\n",
      " [0.89553668 0.99939754 0.91276499 1.        ]\n",
      " [0.87300176 0.99901436 0.89336695 1.        ]\n",
      " [0.88007359 0.99939088 0.89947413 1.        ]\n",
      " [0.86010794 0.99707793 0.88036513 1.        ]\n",
      " [0.86085468 0.99473914 0.87946888 1.        ]\n",
      " [0.88182273 0.99785033 0.89929264 1.        ]\n",
      " [0.87958513 0.99936472 0.89878643 1.        ]\n",
      " [0.87984339 0.99882238 0.89820738 1.        ]\n",
      " [0.8371366  0.99314802 0.86126922 1.        ]\n",
      " [0.86319165 0.99702797 0.88570852 1.        ]\n",
      " [0.8783308  0.99883978 0.89710092 1.        ]\n",
      " [0.87240097 0.99739115 0.89048861 1.        ]\n",
      " [0.85330569 0.99581608 0.87632486 1.        ]\n",
      " [0.88645992 0.99968769 0.90595082 1.        ]\n",
      " [0.88105712 0.99894512 0.89916604 1.        ]\n",
      " [0.88126609 0.99933676 0.90095502 1.        ]\n",
      " [0.8916213  0.99983069 0.91020932 1.        ]\n",
      " [0.8929424  0.99962498 0.91046764 1.        ]\n",
      " [0.86294176 0.99775546 0.88325942 1.        ]\n",
      " [0.88362943 0.99887521 0.90401351 1.        ]\n",
      " [0.86752704 0.9978269  0.88949907 1.        ]\n",
      " [0.89350522 0.99973635 0.91156478 1.        ]\n",
      " [0.86117109 0.99733694 0.88145612 1.        ]\n",
      " [0.88754031 0.99954553 0.90693754 1.        ]\n",
      " [0.8596403  0.99584883 0.88100293 1.        ]\n",
      " [0.87302387 0.99848367 0.89411147 1.        ]\n",
      " [0.87388458 0.9958056  0.89075543 1.        ]\n",
      " [0.88085123 0.99911032 0.89940493 1.        ]\n",
      " [0.89462972 0.99945387 0.91180904 1.        ]\n",
      " [0.88781034 0.99962684 0.90657572 1.        ]\n",
      " [0.87302936 0.99789496 0.89191421 1.        ]\n",
      " [0.89308218 0.99835156 0.91118527 1.        ]\n",
      " [0.86802247 0.9980579  0.88741298 1.        ]\n",
      " [0.870368   0.99810478 0.88941816 1.        ]\n",
      " [0.87401288 0.9971719  0.89201608 1.        ]\n",
      " [0.88406591 0.99847712 0.90272335 1.        ]\n",
      " [0.87411407 0.99866551 0.89494889 1.        ]\n",
      " [0.88631891 0.9996005  0.90486907 1.        ]\n",
      " [0.88028152 0.9962529  0.89663822 1.        ]\n",
      " [0.88200236 0.99867774 0.89974377 1.        ]]\n",
      "time: 0.019902800000000553\n"
     ]
    }
   ],
   "source": [
    "import numpy as np\n",
    "import time\n",
    "from sklearn.datasets import load_iris\n",
    "start = time.perf_counter()\n",
    "iris = load_iris()\n",
    "\n",
    "def dist(x,y):\n",
    "    # dist: 求样本间的余弦相似度\n",
    "    return sum(x*y)/(sum(x**2)*sum(y**2))**0.5\n",
    "\n",
    "def K_means(data=iris.data,k=3,ping=0,maxiter=100):\n",
    "    # k: 类别数\n",
    "    # maxiter: 最大迭代次数\n",
    "    n, m = data.shape    # n:样本个数,m:属性个数\n",
    "    centers = data[:k,:] #初始类中心\n",
    "    while ping < maxiter:\n",
    "        dis = np.zeros([n,k+1])  #距离矩阵\n",
    "        for i in range(n):       #求各样本至各类中心的距离\n",
    "            for j in range(k):\n",
    "                dis[i,j] = dist(data[i,:],centers[j,:])\n",
    "            dis[i,k] = dis[i,:k].argmax()\n",
    "\n",
    "        centers_new = np.zeros([k,m])\n",
    "        for i in range(k):\n",
    "            # 求新类中心:各类样本均值作为新类中心\n",
    "            index = dis[:,k]==i\n",
    "            centers_new[i,:] = np.mean(data[index,:],axis=0)\n",
    "        if np.all(centers==centers_new):\n",
    "            # 判定类中心是否发生变化\n",
    "            break\n",
    "        centers = centers_new #更新类中心\n",
    "        ping += 1\n",
    "    return dis\n",
    "if __name__ == '__main__':\n",
    "    res = K_means()\n",
    "    print(res)\n",
    "end = (time.perf_counter()-start)\n",
    "print(\"time:\",end)"
   ]
  },
  {
   "cell_type": "code",
   "execution_count": 1,
   "metadata": {},
   "outputs": [
    {
     "name": "stdout",
     "output_type": "stream",
     "text": [
      "My name is Leandro\n",
      "My nickname is Tk\n",
      "My nationality is Brazilian\n",
      "My age is 24\n"
     ]
    }
   ],
   "source": [
    "dictionary_tk = {\n",
    "  \"name\": \"Leandro\",\n",
    "  \"nickname\": \"Tk\",\n",
    "  \"nationality\": \"Brazilian\",\n",
    "  \"age\": 24\n",
    "}\n",
    "\n",
    "for attribute, value in dictionary_tk.items():\n",
    "    print(\"My %s is %s\" %(attribute, value))"
   ]
  },
  {
   "cell_type": "code",
   "execution_count": 3,
   "metadata": {},
   "outputs": [
    {
     "name": "stdout",
     "output_type": "stream",
     "text": [
      "My name is Leandro\n",
      "My nickname is Tk\n",
      "My nationality is Brazilian\n",
      "My age is 24\n"
     ]
    }
   ],
   "source": [
    "dictionary_tk = {\n",
    "    \"name\": \"Leandro\",\n",
    "    \"nickname\": \"Tk\",\n",
    "    \"nationality\": \"Brazilian\",\n",
    "    \"age\": 24,\n",
    "}\n",
    "\n",
    "for attribute in dictionary_tk:\n",
    "    print(\"My %s is %s\" % (attribute, dictionary_tk[attribute]))\n"
   ]
  },
  {
   "cell_type": "code",
   "execution_count": 12,
   "metadata": {},
   "outputs": [
    {
     "name": "stdout",
     "output_type": "stream",
     "text": [
      "BOOOOM!!!\n",
      "5\n",
      "65\n"
     ]
    }
   ],
   "source": [
    "class vehicle:\n",
    "    def __init__(self, type, wheel, seat, maxspeed):\n",
    "        self.type = type\n",
    "        self.wheel = wheel\n",
    "        self.seat = seat\n",
    "        self.maxspeed = maxspeed\n",
    "\n",
    "    def boom(self):\n",
    "        print(\"BOOOOM!!!\")\n",
    "\n",
    "    def set_seat(self, number):\n",
    "        self.seat = number\n",
    "\n",
    "\n",
    "BYD = vehicle(\"electric\", 4, 5, 220)\n",
    "BYD.boom()\n",
    "print(BYD.seat)\n",
    "BYD.set_seat(65)\n",
    "print(BYD.seat)\n",
    "\n"
   ]
  },
  {
   "cell_type": "code",
   "execution_count": 1,
   "metadata": {},
   "outputs": [
    {
     "name": "stdout",
     "output_type": "stream",
     "text": [
      "tk@mail.com\n",
      "ssss\n",
      "ssss\n"
     ]
    }
   ],
   "source": [
    "class Person:\n",
    "    def __init__(self, first_name, email):\n",
    "        self.first_name = first_name\n",
    "        self.__email = email\n",
    "\n",
    "    def update_email(self, new_email):\n",
    "        self.__email = new_email\n",
    "\n",
    "    def email(self):\n",
    "        return self.__email\n",
    "\n",
    "tk = Person('TK', 'tk@mail.com')\n",
    "print(tk.email()) # => tk@mail.com\n",
    "tk.__email = 'new_tk@mail.com'\n",
    "tk.email='ssss'\n",
    "print(tk.email) # => tk@mail.com\n",
    "tk.update_email('new21321_tk@mail.com')\n",
    "print(tk.email) # => new_tk@mail.com\n",
    "print(\"我真👍\")"
   ]
  },
  {
   "cell_type": "code",
   "execution_count": 87,
   "metadata": {},
   "outputs": [
    {
     "name": "stdout",
     "output_type": "stream",
     "text": [
      "[2, 3, 4, 5, 6, 7, 8, 9, 10, 11]\n",
      "耗时：0.000197200000秒\n"
     ]
    }
   ],
   "source": [
    "import time\n",
    "t1 = time.perf_counter()\n",
    "a = [1, 2, 3, 4, 5, 6, 7, 8, 9, 10]\n",
    "b = [i+1 for i in a]\n",
    "print(b)\n",
    "t2 = time.perf_counter()\n",
    "t = t2-t1\n",
    "print(\"耗时：{:.12f}秒\".format(t))\n"
   ]
  },
  {
   "cell_type": "code",
   "execution_count": 122,
   "metadata": {},
   "outputs": [
    {
     "name": "stdout",
     "output_type": "stream",
     "text": [
      "[2, 3, [4, 5]]\n",
      "[2, 3, [4, 5], 4, 5]\n",
      "[2, 3, [4, 5], 4, 5, 4, 5]\n"
     ]
    }
   ],
   "source": [
    "# 列表\n",
    "a = [2, 3]\n",
    "b = [4, 5]\n",
    "\n",
    "a.append(b)\n",
    "print(a)\n",
    "\n",
    "a.extend(b)\n",
    "print(a)\n",
    "\n",
    "c = a+b\n",
    "print(c)\n"
   ]
  },
  {
   "cell_type": "code",
   "execution_count": 140,
   "metadata": {},
   "outputs": [
    {
     "name": "stdout",
     "output_type": "stream",
     "text": [
      "[5, 4, 7, 8, 9]\n",
      "[5, 6, 7, 8, 9]\n",
      "0\n",
      "[5, 7, 8, 9]\n"
     ]
    }
   ],
   "source": [
    "i = list(range(5,10,1))\n",
    "\n",
    "i1=i.copy()\n",
    "i[1]=4\n",
    "\n",
    "print(i)\n",
    "print(i1)\n",
    "\n",
    "counti=i.count(1)\n",
    "i.remove(4)\n",
    "print(counti)\n",
    "print(i)"
   ]
  },
  {
   "cell_type": "code",
   "execution_count": 141,
   "metadata": {},
   "outputs": [
    {
     "name": "stdout",
     "output_type": "stream",
     "text": [
      "(1, 2, 3) <class 'tuple'>\n",
      "(1, 2, 3, 1, 2, 3, 1, 2, 3)\n"
     ]
    }
   ],
   "source": [
    "tup =(1,2,3)\n",
    "print(tup,type(tup))\n",
    "tup=tup*3\n",
    "print(tup)"
   ]
  },
  {
   "cell_type": "code",
   "execution_count": 187,
   "metadata": {},
   "outputs": [
    {
     "name": "stdout",
     "output_type": "stream",
     "text": [
      "lst: [1, 2, 3, 1, 2, 3, 1, 2, 3]\n",
      "st1: 12345五\n",
      "st: 1-2-3-4-5-五\n",
      "lst2: ['1', '2', '3', '4', '5', '五']\n",
      "st1是否有字符且全是字母: False\n",
      "st是否有字符且全是字母: False\n",
      "st1是否全是数值: True\n",
      "st1是否全是数值: False\n"
     ]
    }
   ],
   "source": [
    "# 元组转化成列表\n",
    "lst = list(tup)\n",
    "print(\"lst:\",lst)\n",
    "\n",
    "# 字符串\n",
    "st1 = \"12345五\"\n",
    "print(\"st1:\",st1)\n",
    "# 字符串拼接\n",
    "m = \"-\"\n",
    "st = m.join(st1)\n",
    "print(\"st:\",st)\n",
    "\n",
    "# 字符串拆分成列表\n",
    "lst2 = st.split(\"-\")\n",
    "print(\"lst2:\",lst2)\n",
    "\n",
    "\n",
    "st1 = \"12五\"\n",
    "print(\"st1是否有字符且全是字母:\",st1.isalpha())\n",
    "print(\"st是否有字符且全是字母:\",st.isalpha())\n",
    "print(\"st1是否全是数值:\",st1.isnumeric())\n",
    "print(\"st1是否全是数值:\",st1.isdigit())"
   ]
  },
  {
   "cell_type": "code",
   "execution_count": 204,
   "metadata": {},
   "outputs": [
    {
     "name": "stdout",
     "output_type": "stream",
     "text": [
      "abc \n",
      " abca \n",
      "\n",
      "abcsd abc{}\n"
     ]
    }
   ],
   "source": [
    "#格式化方法\n",
    "print(\"{}{}{}\".format('a', 'b', 'c'), '\\n',\n",
    "      \"{0}{1}{2}{0}\".format('a', 'b', 'c'), '\\n')\n",
    "\n",
    "c=\"sd\"\n",
    "x=\"abc{}\"\n",
    "a = x.format(c)\n",
    "print(a,x)\n"
   ]
  },
  {
   "cell_type": "code",
   "execution_count": 226,
   "metadata": {},
   "outputs": [
    {
     "name": "stdout",
     "output_type": "stream",
     "text": [
      "{'a': None, 'b': None, 'c': None} {'a': [1, 2, 3], 'b': [1, 2, 3], 'c': [1, 2, 3]}\n",
      "somewhere\n",
      "dict_keys(['name', 'city', 'information']) <class 'dict_keys'>\n",
      "['name', 'city', 'information']\n"
     ]
    }
   ],
   "source": [
    "values=[1,2,3]\n",
    "keys = [\"a\", \"b\", \"c\"]\n",
    "dic1 = dict.fromkeys(keys)\n",
    "dic2 = dict.fromkeys(keys, values)\n",
    "print(dic1,dic2)\n",
    "\n",
    "\n",
    "poi = {'name':'shop', 'city':'shanghai', 'information':{'address':'somewhere', 'num':66663333}}\n",
    "print(poi['information']['address'])\n",
    "# 对于嵌套字典，输出嵌套内容，通过重复指向来输出\n",
    "\n",
    "\n",
    "print(poi.keys(),type(poi.keys()))\n",
    "print(list(poi.keys()))"
   ]
  },
  {
   "cell_type": "code",
   "execution_count": 6,
   "metadata": {},
   "outputs": [
    {
     "name": "stdout",
     "output_type": "stream",
     "text": [
      "问其姓名，答曰张三\n",
      "问其职业，答曰法外狂人\n",
      "问其年龄，答曰28岁\n",
      "问其性别，答曰男\n",
      "====================\n",
      "问其姓名,答曰张三\n",
      "问其职业,答曰法外狂人\n",
      "问其年龄,答曰28岁\n",
      "问其性别,答曰男\n"
     ]
    }
   ],
   "source": [
    "note = {\"姓名\": \"张三\", \"职业\": \"法外狂人\", \"年龄\": \"28岁\", \"性别\": \"男\"}\n",
    "for (k, v) in note.items():\n",
    "    print(\"问其{}，答曰{}\".format(k, v))\n",
    "\n",
    "print(\"=\"*20)\n",
    "\n",
    "for key in note.keys():\n",
    "    print(\"问其{},答曰{}\".format(key, note[key]))\n"
   ]
  },
  {
   "cell_type": "code",
   "execution_count": 79,
   "metadata": {},
   "outputs": [
    {
     "name": "stdout",
     "output_type": "stream",
     "text": [
      "方法1: {'a': 1, 'b': 2, 'c': 3}\n",
      "方法2: {'a': 1, 'b': 2, 'c': 3}\n",
      "方法3: {'a': 1, 'b': 2, 'c': 3}\n",
      "方法4: {'a': 1, 'b': 2, 'c': 3}\n",
      "[2, 3, 4]\n"
     ]
    }
   ],
   "source": [
    "#获取对象的名称\n",
    "def get_name_of_obj(obj, except_word = \"\"):\n",
    "    for name, item in globals().items():\n",
    "        if item == obj and name != except_word:\n",
    "            return name\n",
    "\n",
    "def print_f(x,num):\n",
    "    print(\"方法{}:\".format(num),x) \n",
    "    \n",
    "# 列表合并为字典\n",
    "x1 = [\"a\", \"b\", \"c\"]\n",
    "x2 = [1, 2, 3]\n",
    "x3=[1,1,1]\n",
    "\n",
    "#方法一\n",
    "dic1 = dict(zip(x1, x2))\n",
    "\n",
    "print_f(dic1,1)\n",
    "\n",
    "#方法二\n",
    "dic2 = dict(map(lambda x, y: [x, y], x1, x2))\n",
    "print_f(dic2,2)\n",
    "\n",
    "#方法三\n",
    "dic3={k:v for k,v in zip(x1,x2)}\n",
    "print_f(dic3,3)\n",
    "\n",
    "#方法四\n",
    "dic4={x1[i]:x2[i] for i in range(len(x1))}\n",
    "print_f(dic4,4)\n",
    "#lambda\n",
    "x3=list(map(lambda x,y:x+y,x2,x3))\n",
    "print(x3)\n",
    "\n",
    "#二个字典的合并\n"
   ]
  },
  {
   "cell_type": "code",
   "execution_count": 2,
   "metadata": {},
   "outputs": [
    {
     "ename": "NameError",
     "evalue": "name 'time' is not defined",
     "output_type": "error",
     "traceback": [
      "\u001b[1;31m---------------------------------------------------------------------------\u001b[0m",
      "\u001b[1;31mNameError\u001b[0m                                 Traceback (most recent call last)",
      "Input \u001b[1;32mIn [2]\u001b[0m, in \u001b[0;36m<module>\u001b[1;34m\u001b[0m\n\u001b[0;32m     24\u001b[0m         \u001b[38;5;28;01mif\u001b[39;00m item \u001b[38;5;241m==\u001b[39m obj \u001b[38;5;129;01mand\u001b[39;00m name \u001b[38;5;241m!=\u001b[39m except_word:\n\u001b[0;32m     25\u001b[0m             \u001b[38;5;28;01mreturn\u001b[39;00m name\n\u001b[1;32m---> 28\u001b[0m \u001b[43madd\u001b[49m\u001b[43m(\u001b[49m\u001b[38;5;241;43m2\u001b[39;49m\u001b[43m,\u001b[49m\u001b[43m \u001b[49m\u001b[38;5;241;43m4\u001b[39;49m\u001b[43m)\u001b[49m\n\u001b[0;32m     30\u001b[0m \u001b[38;5;28mprint\u001b[39m(get_name_of_obj(add))\n",
      "Input \u001b[1;32mIn [2]\u001b[0m, in \u001b[0;36mcaltime1.<locals>.wrapper\u001b[1;34m(*args)\u001b[0m\n\u001b[0;32m      2\u001b[0m \u001b[38;5;28;01mdef\u001b[39;00m \u001b[38;5;21mwrapper\u001b[39m(\u001b[38;5;241m*\u001b[39margs):\n\u001b[1;32m----> 3\u001b[0m     t1 \u001b[38;5;241m=\u001b[39m \u001b[43mtime\u001b[49m\u001b[38;5;241m.\u001b[39mperf_counter()\n\u001b[0;32m      4\u001b[0m     result\u001b[38;5;241m=\u001b[39mfunc(\u001b[38;5;241m*\u001b[39margs)\n\u001b[0;32m      5\u001b[0m     t2 \u001b[38;5;241m=\u001b[39m time\u001b[38;5;241m.\u001b[39mperf_counter()\n",
      "\u001b[1;31mNameError\u001b[0m: name 'time' is not defined"
     ]
    }
   ],
   "source": [
    "def caltime1(func):\n",
    "    def wrapper(*args):\n",
    "        t1 = time.perf_counter()\n",
    "        result=func(*args)\n",
    "        t2 = time.perf_counter()\n",
    "        t = t2-t1\n",
    "        print(\"结果：\",result)\n",
    "        print(\"时间：{:.6f}秒\".format(t))\n",
    "        \n",
    "        return result\n",
    "    return wrapper\n",
    "\n",
    "#函数的注释\n",
    "@caltime1\n",
    "def add(a: int, b: int) -> int:\n",
    "    '''输入 a,b,输出a+b'''\n",
    "    # 输入a,b\n",
    "    # 输出a+b\n",
    "    return a+b\n",
    "\n",
    "#获取对象的名称\n",
    "def get_name_of_obj(obj, except_word = \"\"):\n",
    "    for name, item in globals().items():\n",
    "        if item == obj and name != except_word:\n",
    "            return name\n",
    "\n",
    "\n",
    "add(2, 4)\n",
    "\n",
    "print(get_name_of_obj(add))\n"
   ]
  },
  {
   "cell_type": "code",
   "execution_count": 1,
   "metadata": {},
   "outputs": [
    {
     "ename": "NameError",
     "evalue": "name 'add' is not defined",
     "output_type": "error",
     "traceback": [
      "\u001b[1;31m---------------------------------------------------------------------------\u001b[0m",
      "\u001b[1;31mNameError\u001b[0m                                 Traceback (most recent call last)",
      "Input \u001b[1;32mIn [1]\u001b[0m, in \u001b[0;36m<module>\u001b[1;34m\u001b[0m\n\u001b[1;32m----> 1\u001b[0m g1\u001b[38;5;241m=\u001b[39m\u001b[43madd\u001b[49m(\u001b[38;5;241m1\u001b[39m,\u001b[38;5;241m2\u001b[39m)\n\u001b[0;32m      2\u001b[0m g2\u001b[38;5;241m=\u001b[39m\u001b[38;5;28mdict\u001b[39m(\u001b[38;5;28mzip\u001b[39m(x1,x2))\n\u001b[0;32m      3\u001b[0m get_name_of_obj(g1)\n",
      "\u001b[1;31mNameError\u001b[0m: name 'add' is not defined"
     ]
    }
   ],
   "source": [
    "g1=add(1,2)\n",
    "g2=dict(zip(x1,x2))\n",
    "get_name_of_obj(g1)\n",
    "get_name_of_obj(sdf)"
   ]
  },
  {
   "cell_type": "code",
   "execution_count": 4,
   "metadata": {},
   "outputs": [
    {
     "name": "stdout",
     "output_type": "stream",
     "text": [
      "0 0\n",
      "0 1\n",
      "1 0\n",
      "1 1\n",
      "2 0\n",
      "2 1\n",
      "3 0\n",
      "3 1\n"
     ]
    }
   ],
   "source": [
    "#嵌套循环\n",
    "for a in range(4):\n",
    "    for b in range(2):\n",
    "        print(a,b)"
   ]
  },
  {
   "cell_type": "code",
   "execution_count": 14,
   "metadata": {},
   "outputs": [
    {
     "name": "stdout",
     "output_type": "stream",
     "text": [
      "循环第1次\n",
      "接下来是第2次循环\n",
      "循环第2次\n",
      "循环第3次\n",
      "接下来是第4次循环\n",
      "循环结束\n"
     ]
    }
   ],
   "source": [
    "count = 1\n",
    "while count < 4:\n",
    "    print(\"循环第{}次\".format(count))\n",
    "    count = count+1\n",
    "    if count == 3:\n",
    "        continue\n",
    "    print(\"接下来是第{}次循环\".format(count))\n",
    "else:\n",
    "    print(\"循环结束\")\n"
   ]
  }
 ],
 "metadata": {
  "interpreter": {
   "hash": "83032b95bcf8c6f9858315fcffdf4ab0575c85734f3f086fb4c773c2a3809830"
  },
  "kernelspec": {
   "display_name": "Python 3.8.10 64-bit ('env': venv)",
   "language": "python",
   "name": "python3"
  },
  "language_info": {
   "codemirror_mode": {
    "name": "ipython",
    "version": 3
   },
   "file_extension": ".py",
   "mimetype": "text/x-python",
   "name": "python",
   "nbconvert_exporter": "python",
   "pygments_lexer": "ipython3",
   "version": "3.9.5"
  },
  "orig_nbformat": 4
 },
 "nbformat": 4,
 "nbformat_minor": 2
}

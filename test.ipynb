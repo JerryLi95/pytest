{
 "cells": [
  {
   "cell_type": "code",
   "execution_count": 1,
   "metadata": {},
   "outputs": [
    {
     "name": "stdout",
     "output_type": "stream",
     "text": [
      "1234\n",
      "31241\n"
     ]
    }
   ],
   "source": [
    "#全局变量与局部变量\n",
    "a=31241\n",
    "def change():\n",
    "    a=1234\n",
    "    print(a)\n",
    "change()\n",
    "print(a)"
   ]
  },
  {
   "cell_type": "code",
   "execution_count": 5,
   "metadata": {},
   "outputs": [
    {
     "name": "stdout",
     "output_type": "stream",
     "text": [
      "税后工资为833.25\n"
     ]
    }
   ],
   "source": [
    "salary=input(\"输入税前工资：\")\n",
    "print(\"税后工资为\"+ str(int(salary)*0.75))"
   ]
  },
  {
   "cell_type": "code",
   "execution_count": 22,
   "metadata": {},
   "outputs": [],
   "source": [
    "var1=222\n",
    "var2=123\n",
    "list1=[\"a\",\"b\",\"c\",var2]\n",
    "\n",
    "tuple1=(1,2,3,var1,list1)\n",
    "\n",
    "print(list1)\n",
    "print(tuple1)\n",
    "\n",
    "if 1 in tuple1:\n",
    "    print(\"a在里面\")"
   ]
  }
 ],
 "metadata": {
  "interpreter": {
   "hash": "83032b95bcf8c6f9858315fcffdf4ab0575c85734f3f086fb4c773c2a3809830"
  },
  "kernelspec": {
   "display_name": "Python 3.8.10 64-bit ('env': venv)",
   "language": "python",
   "name": "python3"
  },
  "language_info": {
   "codemirror_mode": {
    "name": "ipython",
    "version": 3
   },
   "file_extension": ".py",
   "mimetype": "text/x-python",
   "name": "python",
   "nbconvert_exporter": "python",
   "pygments_lexer": "ipython3",
   "version": "3.8.10"
  },
  "orig_nbformat": 4
 },
 "nbformat": 4,
 "nbformat_minor": 2
}
